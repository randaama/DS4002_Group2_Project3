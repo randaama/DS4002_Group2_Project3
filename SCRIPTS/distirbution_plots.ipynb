{
  "cells": [
    {
      "cell_type": "markdown",
      "metadata": {
        "id": "view-in-github",
        "colab_type": "text"
      },
      "source": [
        "<a href=\"https://colab.research.google.com/github/randaama/DS4002_Group2_Project3/blob/main/distirbution_plots.ipynb\" target=\"_parent\"><img src=\"https://colab.research.google.com/assets/colab-badge.svg\" alt=\"Open In Colab\"/></a>"
      ]
    },
    {
      "cell_type": "code",
      "execution_count": null,
      "metadata": {
        "colab": {
          "base_uri": "https://localhost:8080/"
        },
        "id": "fywn2zLcpgja",
        "outputId": "c90f786d-7c30-4724-bf2f-f54dba97a9ce"
      },
      "outputs": [
        {
          "name": "stdout",
          "output_type": "stream",
          "text": [
            "Mounted at /content/drive\n"
          ]
        }
      ],
      "source": [
        "# If your dataset is in your Google Drive and you are using Google Colab\n",
        "from google.colab import drive\n",
        "drive.mount('/content/drive')"
      ]
    },
    {
      "cell_type": "code",
      "execution_count": null,
      "metadata": {
        "id": "n9EyrUSEVkQy"
      },
      "outputs": [],
      "source": [
        "import numpy as np\n",
        "import cv2\n",
        "import os\n",
        "from sklearn.model_selection import train_test_split\n",
        "import pandas as pd\n",
        "from PIL import Image"
      ]
    },
    {
      "cell_type": "code",
      "execution_count": null,
      "metadata": {
        "id": "bQdXrhY8VkQy"
      },
      "outputs": [],
      "source": [
        "import torch\n",
        "import torch.nn as nn\n",
        "import torch.optim as optim\n",
        "import torchvision\n",
        "from torchvision import datasets, models, transforms\n",
        "import matplotlib.pyplot as plt\n",
        "import matplotlib.image as mpimg\n",
        "from tqdm.auto import tqdm"
      ]
    },
    {
      "cell_type": "code",
      "execution_count": null,
      "metadata": {
        "colab": {
          "base_uri": "https://localhost:8080/",
          "height": 35
        },
        "id": "41kbMi-9VkQy",
        "outputId": "0c4600b1-43a9-4de9-ad7b-a13b4d0edb57"
      },
      "outputs": [
        {
          "data": {
            "application/vnd.google.colaboratory.intrinsic+json": {
              "type": "string"
            },
            "text/plain": [
              "'cpu'"
            ]
          },
          "execution_count": 4,
          "metadata": {},
          "output_type": "execute_result"
        }
      ],
      "source": [
        "# Check for GPU\n",
        "#device = \"cuda\" if torch.cuda.is_available() else \"cpu\"\n",
        "\n",
        "# Check for GPU in mac\n",
        "device = \"mps\" if torch.backends.mps.is_available() else \"cpu\"\n",
        "\n",
        "device"
      ]
    },
    {
      "cell_type": "code",
      "execution_count": null,
      "metadata": {
        "id": "ib-jF8EgVkQz"
      },
      "outputs": [],
      "source": [
        "def preprocess_image(img):\n",
        "    # Resize the image\n",
        "    img_resized = img.resize((128, 128))  # Resize to 128x128 pixels\n",
        "\n",
        "    # Convert to RGB (if it's not already in RGB)\n",
        "    img_rgb = cv2.cvtColor(np.array(img_resized), cv2.COLOR_BGR2RGB)\n",
        "\n",
        "    # Normalize the image to [0, 1] by dividing by 255.0\n",
        "    img_normalized = img_rgb / 255.0\n",
        "\n",
        "    return img_normalized"
      ]
    },
    {
      "cell_type": "code",
      "execution_count": null,
      "metadata": {
        "colab": {
          "base_uri": "https://localhost:8080/"
        },
        "id": "a-x419aaVkQz",
        "outputId": "2603c58c-c8db-448c-c219-0589eb6d732b"
      },
      "outputs": [
        {
          "name": "stdout",
          "output_type": "stream",
          "text": [
            "       Impairment_Type                                         Image_Name  \\\n",
            "0  Moderate Impairment  ModerateImpairment-1756-_jpg.rf.206c98c4b1d0a1...   \n",
            "1  Moderate Impairment  ModerateImpairment-2500-_jpg.rf.5d5865571db929...   \n",
            "2  Moderate Impairment  ModerateImpairment-809-_jpg.rf.42d22d7ba796597...   \n",
            "3  Moderate Impairment  ModerateImpairment-1934-_jpg.rf.3df0246ce3e9fd...   \n",
            "4  Moderate Impairment  ModerateImpairment-720-_jpg.rf.cf03ed557e3da3c...   \n",
            "\n",
            "                                          Image_Path  \\\n",
            "0  /content/drive/MyDrive/alzheimer detection/tra...   \n",
            "1  /content/drive/MyDrive/alzheimer detection/tra...   \n",
            "2  /content/drive/MyDrive/alzheimer detection/tra...   \n",
            "3  /content/drive/MyDrive/alzheimer detection/tra...   \n",
            "4  /content/drive/MyDrive/alzheimer detection/tra...   \n",
            "\n",
            "                                          Image_Data  \n",
            "0  [[[6, 6, 6], [14, 14, 14], [18, 18, 18], [4, 4...  \n",
            "1  [[[8, 8, 8], [7, 7, 7], [5, 5, 5], [2, 2, 2], ...  \n",
            "2  [[[4, 4, 4], [3, 3, 3], [0, 0, 0], [0, 0, 0], ...  \n",
            "3  [[[4, 4, 4], [4, 4, 4], [2, 2, 2], [0, 0, 0], ...  \n",
            "4  [[[7, 7, 7], [3, 3, 3], [0, 0, 0], [0, 0, 0], ...  \n"
          ]
        }
      ],
      "source": [
        "def create_image_dataframe(base_dir):\n",
        "    # List to hold the rows of the dataframe\n",
        "    data = []\n",
        "\n",
        "    # Loop over the 'train' and 'test' directories\n",
        "    for split in ['train', 'test']:\n",
        "        split_dir = os.path.join(base_dir, split)\n",
        "\n",
        "        # Check if the split directory exists\n",
        "        if not os.path.isdir(split_dir):\n",
        "            print(f\"Directory not found: {split_dir}\")\n",
        "            continue\n",
        "\n",
        "        # Iterate over each impairment type directory within train/test\n",
        "        for impairment_type in ['Moderate Impairment', 'Very Mild Impairment', 'Mild Impairment','No Impairment']:\n",
        "            impairment_dir = os.path.join(split_dir, impairment_type)\n",
        "\n",
        "            for img_name in os.listdir(impairment_dir):\n",
        "                if img_name.lower().endswith('.jpg'):\n",
        "                    # Full image path\n",
        "                    img_path = os.path.join(impairment_dir, img_name)\n",
        "                    img = cv2.imread(img_path)\n",
        "                    img = cv2.resize(img,(128,128))\n",
        "                    b, g, r = cv2.split(img)\n",
        "                    img = cv2.merge([r,g,b])\n",
        "                    # Append a new row with the image object\n",
        "                    data.append([impairment_type, img_name, img_path, img])\n",
        "\n",
        "# Convert the list of data into a pandas DataFrame\n",
        "    df = pd.DataFrame(data, columns=['Impairment_Type', 'Image_Name', 'Image_Path', 'Image_Data'])\n",
        "    return df\n",
        "\n",
        "# Define your base directory where 'train' and 'test' folders are located\n",
        "base_dir = '/content/drive/MyDrive/alzheimer detection'\n",
        "\n",
        "# Generate the dataframe\n",
        "df = create_image_dataframe(base_dir)\n",
        "\n",
        "# Display the first few rows\n",
        "print(df.head())"
      ]
    },
    {
      "cell_type": "code",
      "execution_count": null,
      "metadata": {
        "id": "q7cBQb50VkQz"
      },
      "outputs": [],
      "source": [
        "train, test = train_test_split(df,train_size=0.8,stratify=df['Impairment_Type'])"
      ]
    },
    {
      "cell_type": "code",
      "execution_count": null,
      "metadata": {
        "colab": {
          "base_uri": "https://localhost:8080/",
          "height": 379
        },
        "id": "Xj8YB7nCroXU",
        "outputId": "cec9613f-729f-4a4c-a551-228e709e1b88"
      },
      "outputs": [
        {
          "data": {
            "application/vnd.google.colaboratory.intrinsic+json": {
              "summary": "{\n  \"name\": \"train\",\n  \"rows\": 8042,\n  \"fields\": [\n    {\n      \"column\": \"Impairment_Type\",\n      \"properties\": {\n        \"dtype\": \"category\",\n        \"num_unique_values\": 4,\n        \"samples\": [\n          \"Very Mild Impairment\",\n          \"Moderate Impairment\",\n          \"Mild Impairment\"\n        ],\n        \"semantic_type\": \"\",\n        \"description\": \"\"\n      }\n    },\n    {\n      \"column\": \"Image_Name\",\n      \"properties\": {\n        \"dtype\": \"string\",\n        \"num_unique_values\": 8042,\n        \"samples\": [\n          \"NoImpairment-579-_jpg.rf.ada560e69916be64a85076ee1fed9445.jpg\",\n          \"NoImpairment-1843-_jpg.rf.b3638c0d4061c55023c38a707b08add7.jpg\",\n          \"NoImpairment-1648-_jpg.rf.47a18d1b1cda464e82bd22378081cbba.jpg\"\n        ],\n        \"semantic_type\": \"\",\n        \"description\": \"\"\n      }\n    },\n    {\n      \"column\": \"Image_Path\",\n      \"properties\": {\n        \"dtype\": \"string\",\n        \"num_unique_values\": 8042,\n        \"samples\": [\n          \"/content/drive/MyDrive/alzheimer detection/train/No Impairment/NoImpairment-579-_jpg.rf.ada560e69916be64a85076ee1fed9445.jpg\",\n          \"/content/drive/MyDrive/alzheimer detection/train/No Impairment/NoImpairment-1843-_jpg.rf.b3638c0d4061c55023c38a707b08add7.jpg\",\n          \"/content/drive/MyDrive/alzheimer detection/train/No Impairment/NoImpairment-1648-_jpg.rf.47a18d1b1cda464e82bd22378081cbba.jpg\"\n        ],\n        \"semantic_type\": \"\",\n        \"description\": \"\"\n      }\n    },\n    {\n      \"column\": \"Image_Data\",\n      \"properties\": {\n        \"dtype\": \"object\",\n        \"semantic_type\": \"\",\n        \"description\": \"\"\n      }\n    }\n  ]\n}",
              "type": "dataframe",
              "variable_name": "train"
            },
            "text/html": [
              "\n",
              "  <div id=\"df-d085988a-56c5-4177-96b5-b5673761944d\" class=\"colab-df-container\">\n",
              "    <div>\n",
              "<style scoped>\n",
              "    .dataframe tbody tr th:only-of-type {\n",
              "        vertical-align: middle;\n",
              "    }\n",
              "\n",
              "    .dataframe tbody tr th {\n",
              "        vertical-align: top;\n",
              "    }\n",
              "\n",
              "    .dataframe thead th {\n",
              "        text-align: right;\n",
              "    }\n",
              "</style>\n",
              "<table border=\"1\" class=\"dataframe\">\n",
              "  <thead>\n",
              "    <tr style=\"text-align: right;\">\n",
              "      <th></th>\n",
              "      <th>Impairment_Type</th>\n",
              "      <th>Image_Name</th>\n",
              "      <th>Image_Path</th>\n",
              "      <th>Image_Data</th>\n",
              "    </tr>\n",
              "  </thead>\n",
              "  <tbody>\n",
              "    <tr>\n",
              "      <th>5308</th>\n",
              "      <td>Mild Impairment</td>\n",
              "      <td>MildImpairment-1937-_jpg.rf.b34fc40dfecb126607...</td>\n",
              "      <td>/content/drive/MyDrive/alzheimer detection/tra...</td>\n",
              "      <td>[[[4, 4, 4], [4, 4, 4], [2, 2, 2], [2, 2, 2], ...</td>\n",
              "    </tr>\n",
              "    <tr>\n",
              "      <th>6168</th>\n",
              "      <td>Mild Impairment</td>\n",
              "      <td>MildImpairment-812-_jpg.rf.2dfd0d176349e76cbaf...</td>\n",
              "      <td>/content/drive/MyDrive/alzheimer detection/tra...</td>\n",
              "      <td>[[[2, 2, 2], [2, 2, 2], [2, 2, 2], [2, 2, 2], ...</td>\n",
              "    </tr>\n",
              "    <tr>\n",
              "      <th>2647</th>\n",
              "      <td>Very Mild Impairment</td>\n",
              "      <td>VeryMildImpairment-2264-_jpg.rf.a4a12d6f0461a9...</td>\n",
              "      <td>/content/drive/MyDrive/alzheimer detection/tra...</td>\n",
              "      <td>[[[4, 4, 4], [4, 4, 4], [4, 4, 4], [4, 4, 4], ...</td>\n",
              "    </tr>\n",
              "    <tr>\n",
              "      <th>2850</th>\n",
              "      <td>Very Mild Impairment</td>\n",
              "      <td>VeryMildImpairment-1160-_jpg.rf.16ff9d831c7fd6...</td>\n",
              "      <td>/content/drive/MyDrive/alzheimer detection/tra...</td>\n",
              "      <td>[[[0, 0, 0], [0, 0, 0], [0, 0, 0], [0, 0, 0], ...</td>\n",
              "    </tr>\n",
              "    <tr>\n",
              "      <th>2883</th>\n",
              "      <td>Very Mild Impairment</td>\n",
              "      <td>VeryMildImpairment-2190-_jpg.rf.3d93ee985f430f...</td>\n",
              "      <td>/content/drive/MyDrive/alzheimer detection/tra...</td>\n",
              "      <td>[[[4, 4, 4], [3, 3, 3], [2, 2, 2], [2, 2, 2], ...</td>\n",
              "    </tr>\n",
              "  </tbody>\n",
              "</table>\n",
              "</div>\n",
              "    <div class=\"colab-df-buttons\">\n",
              "\n",
              "  <div class=\"colab-df-container\">\n",
              "    <button class=\"colab-df-convert\" onclick=\"convertToInteractive('df-d085988a-56c5-4177-96b5-b5673761944d')\"\n",
              "            title=\"Convert this dataframe to an interactive table.\"\n",
              "            style=\"display:none;\">\n",
              "\n",
              "  <svg xmlns=\"http://www.w3.org/2000/svg\" height=\"24px\" viewBox=\"0 -960 960 960\">\n",
              "    <path d=\"M120-120v-720h720v720H120Zm60-500h600v-160H180v160Zm220 220h160v-160H400v160Zm0 220h160v-160H400v160ZM180-400h160v-160H180v160Zm440 0h160v-160H620v160ZM180-180h160v-160H180v160Zm440 0h160v-160H620v160Z\"/>\n",
              "  </svg>\n",
              "    </button>\n",
              "\n",
              "  <style>\n",
              "    .colab-df-container {\n",
              "      display:flex;\n",
              "      gap: 12px;\n",
              "    }\n",
              "\n",
              "    .colab-df-convert {\n",
              "      background-color: #E8F0FE;\n",
              "      border: none;\n",
              "      border-radius: 50%;\n",
              "      cursor: pointer;\n",
              "      display: none;\n",
              "      fill: #1967D2;\n",
              "      height: 32px;\n",
              "      padding: 0 0 0 0;\n",
              "      width: 32px;\n",
              "    }\n",
              "\n",
              "    .colab-df-convert:hover {\n",
              "      background-color: #E2EBFA;\n",
              "      box-shadow: 0px 1px 2px rgba(60, 64, 67, 0.3), 0px 1px 3px 1px rgba(60, 64, 67, 0.15);\n",
              "      fill: #174EA6;\n",
              "    }\n",
              "\n",
              "    .colab-df-buttons div {\n",
              "      margin-bottom: 4px;\n",
              "    }\n",
              "\n",
              "    [theme=dark] .colab-df-convert {\n",
              "      background-color: #3B4455;\n",
              "      fill: #D2E3FC;\n",
              "    }\n",
              "\n",
              "    [theme=dark] .colab-df-convert:hover {\n",
              "      background-color: #434B5C;\n",
              "      box-shadow: 0px 1px 3px 1px rgba(0, 0, 0, 0.15);\n",
              "      filter: drop-shadow(0px 1px 2px rgba(0, 0, 0, 0.3));\n",
              "      fill: #FFFFFF;\n",
              "    }\n",
              "  </style>\n",
              "\n",
              "    <script>\n",
              "      const buttonEl =\n",
              "        document.querySelector('#df-d085988a-56c5-4177-96b5-b5673761944d button.colab-df-convert');\n",
              "      buttonEl.style.display =\n",
              "        google.colab.kernel.accessAllowed ? 'block' : 'none';\n",
              "\n",
              "      async function convertToInteractive(key) {\n",
              "        const element = document.querySelector('#df-d085988a-56c5-4177-96b5-b5673761944d');\n",
              "        const dataTable =\n",
              "          await google.colab.kernel.invokeFunction('convertToInteractive',\n",
              "                                                    [key], {});\n",
              "        if (!dataTable) return;\n",
              "\n",
              "        const docLinkHtml = 'Like what you see? Visit the ' +\n",
              "          '<a target=\"_blank\" href=https://colab.research.google.com/notebooks/data_table.ipynb>data table notebook</a>'\n",
              "          + ' to learn more about interactive tables.';\n",
              "        element.innerHTML = '';\n",
              "        dataTable['output_type'] = 'display_data';\n",
              "        await google.colab.output.renderOutput(dataTable, element);\n",
              "        const docLink = document.createElement('div');\n",
              "        docLink.innerHTML = docLinkHtml;\n",
              "        element.appendChild(docLink);\n",
              "      }\n",
              "    </script>\n",
              "  </div>\n",
              "\n",
              "\n",
              "<div id=\"df-35373ddd-bf58-4a0e-9fa5-7106df8526ea\">\n",
              "  <button class=\"colab-df-quickchart\" onclick=\"quickchart('df-35373ddd-bf58-4a0e-9fa5-7106df8526ea')\"\n",
              "            title=\"Suggest charts\"\n",
              "            style=\"display:none;\">\n",
              "\n",
              "<svg xmlns=\"http://www.w3.org/2000/svg\" height=\"24px\"viewBox=\"0 0 24 24\"\n",
              "     width=\"24px\">\n",
              "    <g>\n",
              "        <path d=\"M19 3H5c-1.1 0-2 .9-2 2v14c0 1.1.9 2 2 2h14c1.1 0 2-.9 2-2V5c0-1.1-.9-2-2-2zM9 17H7v-7h2v7zm4 0h-2V7h2v10zm4 0h-2v-4h2v4z\"/>\n",
              "    </g>\n",
              "</svg>\n",
              "  </button>\n",
              "\n",
              "<style>\n",
              "  .colab-df-quickchart {\n",
              "      --bg-color: #E8F0FE;\n",
              "      --fill-color: #1967D2;\n",
              "      --hover-bg-color: #E2EBFA;\n",
              "      --hover-fill-color: #174EA6;\n",
              "      --disabled-fill-color: #AAA;\n",
              "      --disabled-bg-color: #DDD;\n",
              "  }\n",
              "\n",
              "  [theme=dark] .colab-df-quickchart {\n",
              "      --bg-color: #3B4455;\n",
              "      --fill-color: #D2E3FC;\n",
              "      --hover-bg-color: #434B5C;\n",
              "      --hover-fill-color: #FFFFFF;\n",
              "      --disabled-bg-color: #3B4455;\n",
              "      --disabled-fill-color: #666;\n",
              "  }\n",
              "\n",
              "  .colab-df-quickchart {\n",
              "    background-color: var(--bg-color);\n",
              "    border: none;\n",
              "    border-radius: 50%;\n",
              "    cursor: pointer;\n",
              "    display: none;\n",
              "    fill: var(--fill-color);\n",
              "    height: 32px;\n",
              "    padding: 0;\n",
              "    width: 32px;\n",
              "  }\n",
              "\n",
              "  .colab-df-quickchart:hover {\n",
              "    background-color: var(--hover-bg-color);\n",
              "    box-shadow: 0 1px 2px rgba(60, 64, 67, 0.3), 0 1px 3px 1px rgba(60, 64, 67, 0.15);\n",
              "    fill: var(--button-hover-fill-color);\n",
              "  }\n",
              "\n",
              "  .colab-df-quickchart-complete:disabled,\n",
              "  .colab-df-quickchart-complete:disabled:hover {\n",
              "    background-color: var(--disabled-bg-color);\n",
              "    fill: var(--disabled-fill-color);\n",
              "    box-shadow: none;\n",
              "  }\n",
              "\n",
              "  .colab-df-spinner {\n",
              "    border: 2px solid var(--fill-color);\n",
              "    border-color: transparent;\n",
              "    border-bottom-color: var(--fill-color);\n",
              "    animation:\n",
              "      spin 1s steps(1) infinite;\n",
              "  }\n",
              "\n",
              "  @keyframes spin {\n",
              "    0% {\n",
              "      border-color: transparent;\n",
              "      border-bottom-color: var(--fill-color);\n",
              "      border-left-color: var(--fill-color);\n",
              "    }\n",
              "    20% {\n",
              "      border-color: transparent;\n",
              "      border-left-color: var(--fill-color);\n",
              "      border-top-color: var(--fill-color);\n",
              "    }\n",
              "    30% {\n",
              "      border-color: transparent;\n",
              "      border-left-color: var(--fill-color);\n",
              "      border-top-color: var(--fill-color);\n",
              "      border-right-color: var(--fill-color);\n",
              "    }\n",
              "    40% {\n",
              "      border-color: transparent;\n",
              "      border-right-color: var(--fill-color);\n",
              "      border-top-color: var(--fill-color);\n",
              "    }\n",
              "    60% {\n",
              "      border-color: transparent;\n",
              "      border-right-color: var(--fill-color);\n",
              "    }\n",
              "    80% {\n",
              "      border-color: transparent;\n",
              "      border-right-color: var(--fill-color);\n",
              "      border-bottom-color: var(--fill-color);\n",
              "    }\n",
              "    90% {\n",
              "      border-color: transparent;\n",
              "      border-bottom-color: var(--fill-color);\n",
              "    }\n",
              "  }\n",
              "</style>\n",
              "\n",
              "  <script>\n",
              "    async function quickchart(key) {\n",
              "      const quickchartButtonEl =\n",
              "        document.querySelector('#' + key + ' button');\n",
              "      quickchartButtonEl.disabled = true;  // To prevent multiple clicks.\n",
              "      quickchartButtonEl.classList.add('colab-df-spinner');\n",
              "      try {\n",
              "        const charts = await google.colab.kernel.invokeFunction(\n",
              "            'suggestCharts', [key], {});\n",
              "      } catch (error) {\n",
              "        console.error('Error during call to suggestCharts:', error);\n",
              "      }\n",
              "      quickchartButtonEl.classList.remove('colab-df-spinner');\n",
              "      quickchartButtonEl.classList.add('colab-df-quickchart-complete');\n",
              "    }\n",
              "    (() => {\n",
              "      let quickchartButtonEl =\n",
              "        document.querySelector('#df-35373ddd-bf58-4a0e-9fa5-7106df8526ea button');\n",
              "      quickchartButtonEl.style.display =\n",
              "        google.colab.kernel.accessAllowed ? 'block' : 'none';\n",
              "    })();\n",
              "  </script>\n",
              "</div>\n",
              "\n",
              "    </div>\n",
              "  </div>\n"
            ],
            "text/plain": [
              "           Impairment_Type                                         Image_Name  \\\n",
              "5308       Mild Impairment  MildImpairment-1937-_jpg.rf.b34fc40dfecb126607...   \n",
              "6168       Mild Impairment  MildImpairment-812-_jpg.rf.2dfd0d176349e76cbaf...   \n",
              "2647  Very Mild Impairment  VeryMildImpairment-2264-_jpg.rf.a4a12d6f0461a9...   \n",
              "2850  Very Mild Impairment  VeryMildImpairment-1160-_jpg.rf.16ff9d831c7fd6...   \n",
              "2883  Very Mild Impairment  VeryMildImpairment-2190-_jpg.rf.3d93ee985f430f...   \n",
              "\n",
              "                                             Image_Path  \\\n",
              "5308  /content/drive/MyDrive/alzheimer detection/tra...   \n",
              "6168  /content/drive/MyDrive/alzheimer detection/tra...   \n",
              "2647  /content/drive/MyDrive/alzheimer detection/tra...   \n",
              "2850  /content/drive/MyDrive/alzheimer detection/tra...   \n",
              "2883  /content/drive/MyDrive/alzheimer detection/tra...   \n",
              "\n",
              "                                             Image_Data  \n",
              "5308  [[[4, 4, 4], [4, 4, 4], [2, 2, 2], [2, 2, 2], ...  \n",
              "6168  [[[2, 2, 2], [2, 2, 2], [2, 2, 2], [2, 2, 2], ...  \n",
              "2647  [[[4, 4, 4], [4, 4, 4], [4, 4, 4], [4, 4, 4], ...  \n",
              "2850  [[[0, 0, 0], [0, 0, 0], [0, 0, 0], [0, 0, 0], ...  \n",
              "2883  [[[4, 4, 4], [3, 3, 3], [2, 2, 2], [2, 2, 2], ...  "
            ]
          },
          "execution_count": 9,
          "metadata": {},
          "output_type": "execute_result"
        }
      ],
      "source": [
        "train.head()"
      ]
    },
    {
      "cell_type": "code",
      "execution_count": null,
      "metadata": {
        "colab": {
          "base_uri": "https://localhost:8080/",
          "height": 472
        },
        "id": "UUCIdAQcsB6r",
        "outputId": "22f2c232-8881-4e0c-cff1-886188ad677b"
      },
      "outputs": [
        {
          "data": {
            "image/png": "[encoded data removed]",
            "text/plain": [
              "<Figure size 640x480 with 1 Axes>"
            ]
          },
          "metadata": {},
          "output_type": "display_data"
        }
      ],
      "source": [
        "import seaborn as sns\n",
        "\n",
        "# We need to plot the distribution of images in the whole, train, and test datasets to ensure\n",
        "# our subsets are representative of the data as a whole\n",
        "\n",
        "# Plot distribution of images in the whole dataset\n",
        "sns.countplot(data=df, x='Impairment_Type',\n",
        "              order=['No Impairment', 'Very Mild Impairment', 'Mild Impairment', 'Moderate Impairment'],\n",
        "              hue = \"Impairment_Type\")\n",
        "plt.xlabel('Group')\n",
        "plt.ylabel('Count')\n",
        "plt.title('Distribution of Image Types (Whole Dataset)')\n",
        "plt.show()"
      ]
    },
    {
      "cell_type": "code",
      "execution_count": null,
      "metadata": {
        "colab": {
          "base_uri": "https://localhost:8080/",
          "height": 561
        },
        "id": "c8WbCgXXtagZ",
        "outputId": "ea459510-440e-4544-aa67-0c4f88a9dc6d"
      },
      "outputs": [
        {
          "name": "stderr",
          "output_type": "stream",
          "text": [
            "<ipython-input-32-6e7b2d13aa1b>:8: UserWarning: set_ticklabels() should only be used with a fixed number of ticks, i.e. after set_ticks() or using a FixedLocator.\n",
            "  plot.set_xticklabels(['None','Very Mild','Mild','Moderate'])\n"
          ]
        },
        {
          "data": {
            "text/plain": [
              "<Axes: title={'center': 'Distribution of Impairment Image Types (Training Dataset)'}, xlabel=\"Severity of Alzheimer's\", ylabel='Count'>"
            ]
          },
          "execution_count": 32,
          "metadata": {},
          "output_type": "execute_result"
        },
        {
          "data": {
            "image/png": "[encoded data removed]",
            "text/plain": [
              "<Figure size 640x480 with 1 Axes>"
            ]
          },
          "metadata": {},
          "output_type": "display_data"
        }
      ],
      "source": [
        "# Plot distribution of images in the training dataset\n",
        "plot = sns.countplot(data=train, x='Impairment_Type',\n",
        "              order=['No Impairment', 'Very Mild Impairment', 'Mild Impairment', 'Moderate Impairment'],\n",
        "              hue = \"Impairment_Type\")\n",
        "plot.set_xlabel('Severity of Alzheimer\\'s')\n",
        "plot.set_ylabel('Count')\n",
        "plot.set_title('Distribution of Impairment Image Types (Training Dataset)')\n",
        "plot.set_xticklabels(['None','Very Mild','Mild','Moderate'])\n",
        "plot"
      ]
    },
    {
      "cell_type": "code",
      "execution_count": null,
      "metadata": {
        "colab": {
          "base_uri": "https://localhost:8080/",
          "height": 561
        },
        "id": "N2sUp3rFtg-p",
        "outputId": "42509ba0-da92-480d-8449-32e7f518401a"
      },
      "outputs": [
        {
          "name": "stderr",
          "output_type": "stream",
          "text": [
            "<ipython-input-33-bb95fac84b3b>:8: UserWarning: set_ticklabels() should only be used with a fixed number of ticks, i.e. after set_ticks() or using a FixedLocator.\n",
            "  plot.set_xticklabels(['None','Very Mild','Mild','Moderate'])\n"
          ]
        },
        {
          "data": {
            "text/plain": [
              "<Axes: title={'center': 'Distribution of Impairment Image Types (Testing Dataset)'}, xlabel='Group', ylabel='Count'>"
            ]
          },
          "execution_count": 33,
          "metadata": {},
          "output_type": "execute_result"
        },
        {
          "data": {
            "image/png": "[encoded data removed]",
            "text/plain": [
              "<Figure size 640x480 with 1 Axes>"
            ]
          },
          "metadata": {},
          "output_type": "display_data"
        }
      ],
      "source": [
        "# Plot distribution of images in the testing dataset\n",
        "plot = sns.countplot(data=test, x='Impairment_Type',\n",
        "              order=['No Impairment', 'Very Mild Impairment', 'Mild Impairment', 'Moderate Impairment'],\n",
        "              hue = \"Impairment_Type\")\n",
        "plot.set_xlabel('Group')\n",
        "plot.set_ylabel('Count')\n",
        "plot.set_title('Distribution of Impairment Image Types (Testing Dataset)')\n",
        "plot.set_xticklabels(['None','Very Mild','Mild','Moderate'])\n",
        "plot"
      ]
    }
  ],
  "metadata": {
    "colab": {
      "provenance": [],
      "include_colab_link": true
    },
    "kernelspec": {
      "display_name": "ds4003",
      "language": "python",
      "name": "python3"
    },
    "language_info": {
      "codemirror_mode": {
        "name": "ipython",
        "version": 3
      },
      "file_extension": ".py",
      "mimetype": "text/x-python",
      "name": "python",
      "nbconvert_exporter": "python",
      "pygments_lexer": "ipython3",
      "version": "3.8.18"
    }
  },
  "nbformat": 4,
  "nbformat_minor": 0
}
