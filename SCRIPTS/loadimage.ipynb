{
 "cells": [
  {
   "cell_type": "markdown",
   "metadata": {},
   "source": [
    "import os\n",
    "import shutil\n",
    "from sklearn.model_selection import train_test_split"
   ]
  },
  {
   "cell_type": "code",
   "execution_count": 1,
   "metadata": {},
   "outputs": [],
   "source": [
    "import os\n",
    "import shutil\n",
    "from sklearn.model_selection import train_test_split"
   ]
  },
  {
   "cell_type": "code",
   "execution_count": 5,
   "metadata": {},
   "outputs": [
    {
     "ename": "FileNotFoundError",
     "evalue": "[Errno 2] No such file or directory: '/Users/selahmitchell/Downloads/alzheimer detection/Mild Impairment'",
     "output_type": "error",
     "traceback": [
      "\u001b[0;31m---------------------------------------------------------------------------\u001b[0m",
      "\u001b[0;31mFileNotFoundError\u001b[0m                         Traceback (most recent call last)",
      "Cell \u001b[0;32mIn[5], line 17\u001b[0m\n\u001b[1;32m     15\u001b[0m \u001b[38;5;28;01mfor\u001b[39;00m category \u001b[38;5;129;01min\u001b[39;00m categories:\n\u001b[1;32m     16\u001b[0m     category_dir \u001b[38;5;241m=\u001b[39m os\u001b[38;5;241m.\u001b[39mpath\u001b[38;5;241m.\u001b[39mjoin(source_dir, category)\n\u001b[0;32m---> 17\u001b[0m     images \u001b[38;5;241m=\u001b[39m [img \u001b[38;5;28;01mfor\u001b[39;00m img \u001b[38;5;129;01min\u001b[39;00m \u001b[43mos\u001b[49m\u001b[38;5;241;43m.\u001b[39;49m\u001b[43mlistdir\u001b[49m\u001b[43m(\u001b[49m\u001b[43mcategory_dir\u001b[49m\u001b[43m)\u001b[49m \u001b[38;5;28;01mif\u001b[39;00m img\u001b[38;5;241m.\u001b[39mendswith((\u001b[38;5;124m'\u001b[39m\u001b[38;5;124m.jpg\u001b[39m\u001b[38;5;124m'\u001b[39m, \u001b[38;5;124m'\u001b[39m\u001b[38;5;124m.png\u001b[39m\u001b[38;5;124m'\u001b[39m))]\n\u001b[1;32m     19\u001b[0m     \u001b[38;5;66;03m# Split data into train and test sets (80% train, 20% test)\u001b[39;00m\n\u001b[1;32m     20\u001b[0m     train_images, test_images \u001b[38;5;241m=\u001b[39m train_test_split(images, test_size\u001b[38;5;241m=\u001b[39m\u001b[38;5;241m0.2\u001b[39m, random_state\u001b[38;5;241m=\u001b[39m\u001b[38;5;241m42\u001b[39m)\n",
      "\u001b[0;31mFileNotFoundError\u001b[0m: [Errno 2] No such file or directory: '/Users/selahmitchell/Downloads/alzheimer detection/Mild Impairment'"
     ]
    }
   ],
   "source": [
    "\n",
    "# Define paths\n",
    "source_dir = '/Users/selahmitchell/Downloads/alzheimer detection'  # Folder containing all images\n",
    "train_dir = '/Users/selahmitchell/Downloads/alzheimer detection/train'\n",
    "test_dir = '/Users/selahmitchell/Downloads/alzheimer detection/test'\n",
    "\n",
    "# List categories\n",
    "categories = ['Mild Impairment', 'No Impairment', 'Very Mild Impairment', 'Moderate Impairment']\n",
    "\n",
    "# Create the directory structure if it doesn't exist\n",
    "for category in categories:\n",
    "    os.makedirs(os.path.join(train_dir, category), exist_ok=True)\n",
    "    os.makedirs(os.path.join(test_dir, category), exist_ok=True)\n",
    "\n",
    "# Loop through each category and split images\n",
    "for category in categories:\n",
    "    category_dir = os.path.join(source_dir, category)\n",
    "    images = [img for img in os.listdir(category_dir) if img.endswith(('.jpg', '.png'))]\n",
    "    \n",
    "    # Split data into train and test sets (80% train, 20% test)\n",
    "    train_images, test_images = train_test_split(images, test_size=0.2, random_state=42)\n",
    "    \n",
    "    # Copy images to corresponding train and test folders\n",
    "    for img in train_images:\n",
    "        shutil.copy(os.path.join(category_dir, img), os.path.join(train_dir, category, img))\n",
    "    \n",
    "    for img in test_images:\n",
    "        shutil.copy(os.path.join(category_dir, img), os.path.join(test_dir, category, img))\n",
    "\n",
    "print(\"Data split complete.\")\n"
   ]
  }
 ],
 "metadata": {
  "kernelspec": {
   "display_name": "ds4003",
   "language": "python",
   "name": "python3"
  },
  "language_info": {
   "codemirror_mode": {
    "name": "ipython",
    "version": 3
   },
   "file_extension": ".py",
   "mimetype": "text/x-python",
   "name": "python",
   "nbconvert_exporter": "python",
   "pygments_lexer": "ipython3",
   "version": "3.8.18"
  }
 },
 "nbformat": 4,
 "nbformat_minor": 2
}
