{
 "cells": [
  {
   "cell_type": "markdown",
   "metadata": {},
   "source": [
    "import os\n",
    "import shutil\n",
    "from sklearn.model_selection import train_test_split"
   ]
  },
  {
   "cell_type": "code",
   "execution_count": 38,
   "metadata": {},
   "outputs": [],
   "source": [
    "import os\n",
    "import shutil\n",
    "from sklearn.model_selection import train_test_split\n",
    "import pandas as pd\n",
    "from PIL import Image"
   ]
  },
  {
   "cell_type": "code",
   "execution_count": 43,
   "metadata": {},
   "outputs": [
    {
     "name": "stdout",
     "output_type": "stream",
     "text": [
      "       Impairment_Type                                         Image_Name  \\\n",
      "0  Moderate Impairment  ModerateImpairment-802-_jpg.rf.4d240c4e9cd1071...   \n",
      "1  Moderate Impairment  ModerateImpairment-926-_jpg.rf.d801d2fca121257...   \n",
      "2  Moderate Impairment  ModerateImpairment-1289-_jpg.rf.4c1f14c4b0e529...   \n",
      "3  Moderate Impairment  ModerateImpairment-1637-_jpg.rf.62fdb6b600da49...   \n",
      "4  Moderate Impairment  ModerateImpairment-2204-_jpg.rf.4e44d25282395c...   \n",
      "\n",
      "                                          Image_Path  \\\n",
      "0  /Users/selahmitchell/Downloads/alzheimer_detec...   \n",
      "1  /Users/selahmitchell/Downloads/alzheimer_detec...   \n",
      "2  /Users/selahmitchell/Downloads/alzheimer_detec...   \n",
      "3  /Users/selahmitchell/Downloads/alzheimer_detec...   \n",
      "4  /Users/selahmitchell/Downloads/alzheimer_detec...   \n",
      "\n",
      "                                          Image_Data  \n",
      "0  <PIL.JpegImagePlugin.JpegImageFile image mode=...  \n",
      "1  <PIL.JpegImagePlugin.JpegImageFile image mode=...  \n",
      "2  <PIL.JpegImagePlugin.JpegImageFile image mode=...  \n",
      "3  <PIL.JpegImagePlugin.JpegImageFile image mode=...  \n",
      "4  <PIL.JpegImagePlugin.JpegImageFile image mode=...  \n",
      "<class 'pandas.core.frame.DataFrame'>\n",
      "RangeIndex: 6999 entries, 0 to 6998\n",
      "Data columns (total 4 columns):\n",
      " #   Column           Non-Null Count  Dtype \n",
      "---  ------           --------------  ----- \n",
      " 0   Impairment_Type  6999 non-null   object\n",
      " 1   Image_Name       6999 non-null   object\n",
      " 2   Image_Path       6999 non-null   object\n",
      " 3   Image_Data       6999 non-null   object\n",
      "dtypes: object(4)\n",
      "memory usage: 218.8+ KB\n"
     ]
    }
   ],
   "source": [
    "\n",
    "\n",
    "def create_image_dataframe(base_dir):\n",
    "    # List to hold the rows of the dataframe\n",
    "    data = []\n",
    "    \n",
    "    # Loop over the 'train' and 'test' directories\n",
    "    for split in ['train', 'test']:\n",
    "        split_dir = os.path.join(base_dir, split)\n",
    "        \n",
    "        # Check if the split directory exists\n",
    "        if not os.path.isdir(split_dir):\n",
    "            print(f\"Directory not found: {split_dir}\")\n",
    "            continue\n",
    "        \n",
    "        # Iterate over each impairment type directory within train/test\n",
    "        for impairment_type in ['Moderate Impairment', 'Very Mild Impairment', 'Mild Impairment']:\n",
    "            impairment_dir = os.path.join(split_dir, impairment_type)\n",
    "\n",
    "            for img_name in os.listdir(impairment_dir):\n",
    "                if img_name.lower().endswith('.jpg'):\n",
    "                    # Full image path\n",
    "                    img_path = os.path.join(impairment_dir, img_name)\n",
    "                    \n",
    "                    # Open the image and load it into memory as an object\n",
    "                    with open(img_path, 'rb') as img_file:\n",
    "                        img_data = img_file.read()  # Read the image file as bytes\n",
    "                        img = Image.open(io.BytesIO(img_data))  # Open the image using Pillow\n",
    "                    \n",
    "                    # Append a new row with impairment type, image name, image path, and image data\n",
    "                    data.append([impairment_type, img_name, img_path, img])  \n",
    "\n",
    "    # Convert the list of data into a pandas DataFrame\n",
    "    df = pd.DataFrame(data, columns=['Impairment_Type', 'Image_Name', 'Image_Path', 'Image_Data'])\n",
    "    return df\n",
    "\n",
    "# Define your base directory where 'train' and 'test' folders are located\n",
    "base_dir = '/Users/selahmitchell/Downloads/alzheimer_detection'  # Ensure there is no trailing space\n",
    "\n",
    "# Generate the dataframe\n",
    "df = create_image_dataframe(base_dir)\n",
    "\n",
    "# Display the first few rows\n",
    "print(df.head())\n",
    "df.info()\n"
   ]
  }
 ],
 "metadata": {
  "kernelspec": {
   "display_name": "ds4003",
   "language": "python",
   "name": "python3"
  },
  "language_info": {
   "codemirror_mode": {
    "name": "ipython",
    "version": 3
   },
   "file_extension": ".py",
   "mimetype": "text/x-python",
   "name": "python",
   "nbconvert_exporter": "python",
   "pygments_lexer": "ipython3",
   "version": "3.8.18"
  }
 },
 "nbformat": 4,
 "nbformat_minor": 2
}
